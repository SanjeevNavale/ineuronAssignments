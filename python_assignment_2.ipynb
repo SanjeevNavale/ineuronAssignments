{
 "cells": [
  {
   "cell_type": "markdown",
   "metadata": {},
   "source": [
    "# 1. Create the below pattern using nested for loop in Python.\n",
    "*\n",
    "** \n",
    "*** \n",
    "**** \n",
    "***** \n",
    "**** \n",
    "*** \n",
    "**\n",
    "*\n",
    "\n",
    "'''\n"
   ]
  },
  {
   "cell_type": "code",
   "execution_count": 82,
   "metadata": {},
   "outputs": [
    {
     "name": "stdout",
     "output_type": "stream",
     "text": [
      "\r\n",
      "*\r\n",
      "**\r\n",
      "***\r\n",
      "****\r\n",
      "*****\r\n",
      "****\r\n",
      "***\r\n",
      "**\r\n",
      "*\r\n"
     ]
    }
   ],
   "source": [
    "n=5\n",
    "for a1 in range (0,n):\n",
    "    for a2 in range (a1):\n",
    "        print(\"*\", end=\"\")\n",
    "    print(\"\\r\")    \n",
    "\n",
    "for a3 in range (n,0,-1):\n",
    "    for a4 in range (a3):\n",
    "        print(\"*\", end=\"\")\n",
    "    print(\"\\r\")"
   ]
  },
  {
   "cell_type": "markdown",
   "metadata": {},
   "source": [
    "# 2. Write a Python program to reverse a word after accepting the input from the user. Sample Output: Input word: ineuron Output: norueni'''"
   ]
  },
  {
   "cell_type": "code",
   "execution_count": 84,
   "metadata": {
    "scrolled": true
   },
   "outputs": [
    {
     "name": "stdout",
     "output_type": "stream",
     "text": [
      "Enter a word:ineuron\n",
      "You entered: ineuron\n",
      "Your word in reverse: norueni\n"
     ]
    }
   ],
   "source": [
    "name=input(\"Enter a word:\")\n",
    "print(\"You entered:\", name)\n",
    "print(\"Your word in reverse:\", name[::-1])"
   ]
  },
  {
   "cell_type": "code",
   "execution_count": null,
   "metadata": {},
   "outputs": [],
   "source": []
  }
 ],
 "metadata": {
  "kernelspec": {
   "display_name": "Python 3",
   "language": "python",
   "name": "python3"
  },
  "language_info": {
   "codemirror_mode": {
    "name": "ipython",
    "version": 3
   },
   "file_extension": ".py",
   "mimetype": "text/x-python",
   "name": "python",
   "nbconvert_exporter": "python",
   "pygments_lexer": "ipython3",
   "version": "3.8.3"
  }
 },
 "nbformat": 4,
 "nbformat_minor": 4
}
